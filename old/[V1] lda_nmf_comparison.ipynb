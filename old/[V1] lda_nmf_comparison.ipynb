{
 "cells": [
  {
   "cell_type": "code",
   "execution_count": 17,
   "metadata": {},
   "outputs": [],
   "source": [
    "import pandas as pd\n",
    "import os\n",
    "\n",
    "tweets = pd.read_csv(os.path.join('Data', 'twcs.csv'))"
   ]
  },
  {
   "cell_type": "code",
   "execution_count": 18,
   "metadata": {},
   "outputs": [
    {
     "data": {
      "text/html": [
       "<div>\n",
       "<style scoped>\n",
       "    .dataframe tbody tr th:only-of-type {\n",
       "        vertical-align: middle;\n",
       "    }\n",
       "\n",
       "    .dataframe tbody tr th {\n",
       "        vertical-align: top;\n",
       "    }\n",
       "\n",
       "    .dataframe thead th {\n",
       "        text-align: right;\n",
       "    }\n",
       "</style>\n",
       "<table border=\"1\" class=\"dataframe\">\n",
       "  <thead>\n",
       "    <tr style=\"text-align: right;\">\n",
       "      <th></th>\n",
       "      <th>tweet_id</th>\n",
       "      <th>author_id</th>\n",
       "      <th>inbound</th>\n",
       "      <th>created_at</th>\n",
       "      <th>text</th>\n",
       "      <th>response_tweet_id</th>\n",
       "      <th>in_response_to_tweet_id</th>\n",
       "    </tr>\n",
       "  </thead>\n",
       "  <tbody>\n",
       "    <tr>\n",
       "      <th>3</th>\n",
       "      <td>5</td>\n",
       "      <td>83897</td>\n",
       "      <td>True</td>\n",
       "      <td>Thu Nov 02 13:08:24 +0000 2017</td>\n",
       "      <td>Lovely friendly staff @sainsburys cafe Bretton...</td>\n",
       "      <td>4</td>\n",
       "      <td>NaN</td>\n",
       "    </tr>\n",
       "    <tr>\n",
       "      <th>7</th>\n",
       "      <td>8</td>\n",
       "      <td>83898</td>\n",
       "      <td>True</td>\n",
       "      <td>Fri Nov 03 19:49:33 +0000 2017</td>\n",
       "      <td>Gutted I didn’t get any garlic and herb dip in...</td>\n",
       "      <td>6</td>\n",
       "      <td>NaN</td>\n",
       "    </tr>\n",
       "    <tr>\n",
       "      <th>9</th>\n",
       "      <td>11</td>\n",
       "      <td>83899</td>\n",
       "      <td>True</td>\n",
       "      <td>Fri Nov 03 16:43:59 +0000 2017</td>\n",
       "      <td>@Safaricom_Care why are calls in your network ...</td>\n",
       "      <td>10</td>\n",
       "      <td>NaN</td>\n",
       "    </tr>\n",
       "    <tr>\n",
       "      <th>14</th>\n",
       "      <td>14</td>\n",
       "      <td>83900</td>\n",
       "      <td>True</td>\n",
       "      <td>Fri Nov 03 16:41:38 +0000 2017</td>\n",
       "      <td>@safaricom_care how long will I have to wait t...</td>\n",
       "      <td>12</td>\n",
       "      <td>NaN</td>\n",
       "    </tr>\n",
       "    <tr>\n",
       "      <th>16</th>\n",
       "      <td>18</td>\n",
       "      <td>83902</td>\n",
       "      <td>True</td>\n",
       "      <td>Fri Nov 03 16:37:48 +0000 2017</td>\n",
       "      <td>@Safaricom_Care my DM? 6 hrs later</td>\n",
       "      <td>17</td>\n",
       "      <td>NaN</td>\n",
       "    </tr>\n",
       "  </tbody>\n",
       "</table>\n",
       "</div>"
      ],
      "text/plain": [
       "    tweet_id author_id  inbound                      created_at  \\\n",
       "3          5     83897     True  Thu Nov 02 13:08:24 +0000 2017   \n",
       "7          8     83898     True  Fri Nov 03 19:49:33 +0000 2017   \n",
       "9         11     83899     True  Fri Nov 03 16:43:59 +0000 2017   \n",
       "14        14     83900     True  Fri Nov 03 16:41:38 +0000 2017   \n",
       "16        18     83902     True  Fri Nov 03 16:37:48 +0000 2017   \n",
       "\n",
       "                                                 text response_tweet_id  \\\n",
       "3   Lovely friendly staff @sainsburys cafe Bretton...                 4   \n",
       "7   Gutted I didn’t get any garlic and herb dip in...                 6   \n",
       "9   @Safaricom_Care why are calls in your network ...                10   \n",
       "14  @safaricom_care how long will I have to wait t...                12   \n",
       "16                 @Safaricom_Care my DM? 6 hrs later                17   \n",
       "\n",
       "    in_response_to_tweet_id  \n",
       "3                       NaN  \n",
       "7                       NaN  \n",
       "9                       NaN  \n",
       "14                      NaN  \n",
       "16                      NaN  "
      ]
     },
     "execution_count": 18,
     "metadata": {},
     "output_type": "execute_result"
    }
   ],
   "source": [
    "# Tweets that are not a reply to another tweet and are user (non-company) initiated.\n",
    "customer_initial_tweets = tweets[pd.isnull(tweets.in_response_to_tweet_id) & tweets.inbound]\n",
    "customer_initial_tweets.head()"
   ]
  },
  {
   "cell_type": "code",
   "execution_count": 19,
   "metadata": {},
   "outputs": [
    {
     "data": {
      "text/plain": [
       "Index(['tweet_id', 'author_id', 'inbound', 'created_at', 'text',\n",
       "       'response_tweet_id', 'in_response_to_tweet_id'],\n",
       "      dtype='object')"
      ]
     },
     "execution_count": 19,
     "metadata": {},
     "output_type": "execute_result"
    }
   ],
   "source": [
    "customer_initial_tweets.columns"
   ]
  },
  {
   "cell_type": "code",
   "execution_count": null,
   "metadata": {},
   "outputs": [],
   "source": []
  }
 ],
 "metadata": {
  "kernelspec": {
   "display_name": "Python 3",
   "language": "python",
   "name": "python3"
  },
  "language_info": {
   "codemirror_mode": {
    "name": "ipython",
    "version": 3
   },
   "file_extension": ".py",
   "mimetype": "text/x-python",
   "name": "python",
   "nbconvert_exporter": "python",
   "pygments_lexer": "ipython3",
   "version": "3.6.3"
  }
 },
 "nbformat": 4,
 "nbformat_minor": 2
}
